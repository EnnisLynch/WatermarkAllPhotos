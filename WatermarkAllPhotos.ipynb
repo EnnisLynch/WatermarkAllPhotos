{
 "cells": [
  {
   "cell_type": "code",
   "execution_count": 28,
   "metadata": {},
   "outputs": [],
   "source": [
    "from PIL import Image, ImageDraw, ImageFont\n",
    "import os;\n",
    "import glob;\n",
    "import sys;\n",
    "import tkinter;\n",
    "from tkinter import filedialog;\n",
    "import piexif;\n",
    "\n",
    "#fix ask directory bug for windows by changing threading model\n",
    "sys.coinit_flags = 2  # COINIT_APARTMENTTHREADED\n",
    "\n",
    "OUTPUT_PATH = \"watermark\";\n",
    "\n",
    "def writeOnImage(text, image):\n",
    "    width, height = image.size;\n",
    "    #open the image context for drawing\n",
    "    context = ImageDraw.Draw(image);\n",
    "    #hard-code the font\n",
    "    font = ImageFont.truetype('C:/Windows/Fonts/Verdana.ttf', 45);\n",
    "    textWidth,textHeight = context.textsize(text, font=font);\n",
    "    textHeight = textHeight + 5; #give some buffer at the bottom\n",
    "    #draw gray text for drop shadow with small offset\n",
    "    context.text((width-(textWidth+3),height-textHeight), text, fill=(128,128,128), font=font);\n",
    "    #draw black text for text\n",
    "    context.text((width-(textWidth+5),height-(textHeight+3)), text, fill=(0,0,0), font=font);\n",
    "    return;\n",
    "#end writeOnImage\n",
    "\n",
    "root = tkinter.Tk();\n",
    "folder_selected = filedialog.askdirectory();\n",
    "\n",
    "os.chdir(folder_selected);\n",
    "root.destroy();\n",
    "\n",
    "if(not os.path.isdir(OUTPUT_PATH)):\n",
    "    os.mkdir(OUTPUT_PATH);\n",
    "\n",
    "\n",
    "for file in glob.glob(\"*.jpg\"):\n",
    "    image = Image.open(file);\n",
    "    \n",
    "    exif_dict = piexif.load(image.info['exif'])\n",
    "    \n",
    "    exif_dict[\"0th\"][piexif.ImageIFD.Copyright] = \"Joseph Wilson {http://wilsonadventurephotography.com}\";\n",
    "    \n",
    "    \n",
    "    exif_bytes = piexif.dump(exif_dict)\n",
    "    \n",
    "    writeOnImage(\"@jojo\", image);\n",
    "    image.save(OUTPUT_PATH + \"\\\\\" + file, quality=100, subsampling=0, exif=exif_bytes);\n",
    "    size = 1024,1024\n",
    "    image.thumbnail(size)\n",
    "    image.save(OUTPUT_PATH + \"\\\\\" + file + \".thumb.jpg\", quality=100, subsampling=0, exif=exif_bytes);\n"
   ]
  },
  {
   "cell_type": "code",
   "execution_count": null,
   "metadata": {},
   "outputs": [],
   "source": []
  },
  {
   "cell_type": "code",
   "execution_count": null,
   "metadata": {},
   "outputs": [],
   "source": []
  },
  {
   "cell_type": "code",
   "execution_count": null,
   "metadata": {},
   "outputs": [],
   "source": []
  }
 ],
 "metadata": {
  "kernelspec": {
   "display_name": "Python 3",
   "language": "python",
   "name": "python3"
  },
  "language_info": {
   "codemirror_mode": {
    "name": "ipython",
    "version": 3
   },
   "file_extension": ".py",
   "mimetype": "text/x-python",
   "name": "python",
   "nbconvert_exporter": "python",
   "pygments_lexer": "ipython3",
   "version": "3.7.4"
  }
 },
 "nbformat": 4,
 "nbformat_minor": 2
}
